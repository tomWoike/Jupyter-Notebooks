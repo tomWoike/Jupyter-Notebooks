{
 "cells": [
  {
   "cell_type": "markdown",
   "metadata": {},
   "source": [
    "# Dichtefunktion der Normalverteilung / density function\n",
    "\n",
    "## Dichtefunktion: $$f_n(x) = {1 \\over \\sigma \\sqrt2\\pi} e^{-0,5({x - µ \\over \\sigma})^2}$$\n",
    "$$e : Eulersche Zahl$$\n",
    "$${\\pi}: Zahl pi $$\n",
    "$${\\mu \\in} R$$\n",
    "$${\\sigma} > 0$$"
   ]
  },
  {
   "cell_type": "code",
   "execution_count": null,
   "metadata": {
    "scrolled": true
   },
   "outputs": [],
   "source": [
    "import ipywidgets as widgets\n",
    "from IPython.display import display\n",
    "import matplotlib.pyplot as plt\n",
    "import numpy as np\n",
    "\n",
    "#set backend for interactive toolbar\n",
    "%matplotlib nbagg \n",
    "\n",
    "#--------------------------------------------------------------------------------------------------------------\n",
    "# Dichtefunktion der Normalverteilung  / density function\n",
    "#\n",
    "# x_range: -5 ... +5 resolution: 0.02\n",
    "# interactive sliders for µ and \\sigma\n",
    "#\n",
    "# matplotlib supports writing greek letters\n",
    "#     --> https://matplotlib.org/tutorials/text/mathtext.html?highlight=greek\n",
    "#\n",
    "# matplotlib renders an interactive toolbar {home|forward|backward|move_pan|zoom-in|print} \n",
    "#     --> https://matplotlib.org/3.1.1/users/navigation_toolbar.html\n",
    "#     --> the backend for this toolbar is startet with %matplotlib nbagg!  \n",
    "#              the recommendend %matplotlib notebook  does not work\n",
    "\n",
    "x = np.linspace(-5,5,500)\n",
    "fig, ax = plt.subplots(1,figsize = (10,4))\n",
    "plt.suptitle(\"density function\")\n",
    "\n",
    "def update_plot(mu, sigm):\n",
    "\n",
    "    ax.clear()   \n",
    "    sLabel = 'µ = {} \\n$\\sigma$ = {}'\n",
    "    \n",
    "    y  = 1/(sigm * np.sqrt(2 * np.pi)) * np.exp(-0.5*((x-mu)/sigm)**2)\n",
    "    \n",
    "    ax.plot(x , y, linewidth = 2, color = 'r', label = sLabel.format(mu,sigm))\n",
    "    \n",
    "    ax.set_xlim(x[0], x[-1])\n",
    "    ax.set_xlabel(\"x\")\n",
    "    ax.set_ylim(0,1)\n",
    "    ax.set_ylabel(\"y\")\n",
    "    ax.legend(loc='upper center')\n",
    "        \n",
    "    plt.show()\n",
    "\n",
    "mu = widgets.FloatSlider(min=-5, max=5, value=1, description=\"µ :\")\n",
    "sigm = widgets.FloatSlider(min=0.01, max=5, value=1, description='$\\sigma$:')\n",
    "\n",
    "widgets.interactive(update_plot, mu=mu, sigm=sigm)"
   ]
  },
  {
   "cell_type": "code",
   "execution_count": null,
   "metadata": {},
   "outputs": [],
   "source": []
  }
 ],
 "metadata": {
  "kernelspec": {
   "display_name": "Python 3",
   "language": "python",
   "name": "python3"
  },
  "language_info": {
   "codemirror_mode": {
    "name": "ipython",
    "version": 3
   },
   "file_extension": ".py",
   "mimetype": "text/x-python",
   "name": "python",
   "nbconvert_exporter": "python",
   "pygments_lexer": "ipython3",
   "version": "3.7.4"
  },
  "widgets": {
   "application/vnd.jupyter.widget-state+json": {
    "state": {
     "0b773a6a08bd4c5ab3f634dbb8c15f80": {
      "model_module": "@jupyter-widgets/base",
      "model_module_version": "1.2.0",
      "model_name": "LayoutModel",
      "state": {}
     },
     "1904a39453ec40089ee8a8bad890c174": {
      "model_module": "@jupyter-widgets/base",
      "model_module_version": "1.2.0",
      "model_name": "LayoutModel",
      "state": {}
     },
     "1f81f030ed34483882c66ed87ed9bb5c": {
      "model_module": "@jupyter-widgets/controls",
      "model_module_version": "1.5.0",
      "model_name": "FloatSliderModel",
      "state": {
       "description": "$\\sigma$:",
       "layout": "IPY_MODEL_0b773a6a08bd4c5ab3f634dbb8c15f80",
       "max": 5,
       "min": 0.01,
       "step": 0.1,
       "style": "IPY_MODEL_3f2bba9c60624f58bc13fbfe4fdd9011",
       "value": 1
      }
     },
     "289e36630ec14cf89972a4b86c77a4e3": {
      "model_module": "@jupyter-widgets/controls",
      "model_module_version": "1.5.0",
      "model_name": "SliderStyleModel",
      "state": {
       "description_width": ""
      }
     },
     "2dfe3230e4c04d59a73f80f96786cc5f": {
      "model_module": "@jupyter-widgets/base",
      "model_module_version": "1.2.0",
      "model_name": "LayoutModel",
      "state": {}
     },
     "327a4d3417a34b708f3130cde726c9e5": {
      "model_module": "@jupyter-widgets/controls",
      "model_module_version": "1.5.0",
      "model_name": "SliderStyleModel",
      "state": {
       "description_width": ""
      }
     },
     "383027aa1c5f4203807f9ac26489f441": {
      "model_module": "@jupyter-widgets/base",
      "model_module_version": "1.2.0",
      "model_name": "LayoutModel",
      "state": {}
     },
     "3f2bba9c60624f58bc13fbfe4fdd9011": {
      "model_module": "@jupyter-widgets/controls",
      "model_module_version": "1.5.0",
      "model_name": "SliderStyleModel",
      "state": {
       "description_width": ""
      }
     },
     "537d2ed36bf84ab9ab3d05ef969e95ab": {
      "model_module": "@jupyter-widgets/base",
      "model_module_version": "1.2.0",
      "model_name": "LayoutModel",
      "state": {}
     },
     "5eb7f82058124944ad2d8c36e652bee0": {
      "model_module": "@jupyter-widgets/controls",
      "model_module_version": "1.5.0",
      "model_name": "VBoxModel",
      "state": {
       "_dom_classes": [
        "widget-interact"
       ],
       "children": [
        "IPY_MODEL_d210687a0be6485394f685acab3c07cd",
        "IPY_MODEL_cc0f155667a947bf83c103e0689897df",
        "IPY_MODEL_c8360d95554a42efba833b5768ef49ca"
       ],
       "layout": "IPY_MODEL_60d9d54dc7384fb3ae2aeeacb8c221bf"
      }
     },
     "60d9d54dc7384fb3ae2aeeacb8c221bf": {
      "model_module": "@jupyter-widgets/base",
      "model_module_version": "1.2.0",
      "model_name": "LayoutModel",
      "state": {}
     },
     "7a0614be5d524a1ab922fedec359aa1f": {
      "model_module": "@jupyter-widgets/controls",
      "model_module_version": "1.5.0",
      "model_name": "VBoxModel",
      "state": {
       "_dom_classes": [
        "widget-interact"
       ],
       "children": [
        "IPY_MODEL_fc0d08432f6946998ed58b1bea811138",
        "IPY_MODEL_1f81f030ed34483882c66ed87ed9bb5c",
        "IPY_MODEL_f4c01f9e2e8c47659299adbd29353e04"
       ],
       "layout": "IPY_MODEL_a0f015b870854c62b4525837ac3aee1f"
      }
     },
     "8b0d5a54006c436084b8bbebf42ef6cf": {
      "model_module": "@jupyter-widgets/controls",
      "model_module_version": "1.5.0",
      "model_name": "SliderStyleModel",
      "state": {
       "description_width": ""
      }
     },
     "8ea6dcbd2c9d47daa1e32840c93049c5": {
      "model_module": "@jupyter-widgets/base",
      "model_module_version": "1.2.0",
      "model_name": "LayoutModel",
      "state": {}
     },
     "a0f015b870854c62b4525837ac3aee1f": {
      "model_module": "@jupyter-widgets/base",
      "model_module_version": "1.2.0",
      "model_name": "LayoutModel",
      "state": {}
     },
     "c8360d95554a42efba833b5768ef49ca": {
      "model_module": "@jupyter-widgets/output",
      "model_module_version": "1.0.0",
      "model_name": "OutputModel",
      "state": {
       "layout": "IPY_MODEL_2dfe3230e4c04d59a73f80f96786cc5f"
      }
     },
     "cc0f155667a947bf83c103e0689897df": {
      "model_module": "@jupyter-widgets/controls",
      "model_module_version": "1.5.0",
      "model_name": "FloatSliderModel",
      "state": {
       "description": "$\\sigma$:",
       "layout": "IPY_MODEL_8ea6dcbd2c9d47daa1e32840c93049c5",
       "max": 5,
       "min": 0.01,
       "step": 0.1,
       "style": "IPY_MODEL_8b0d5a54006c436084b8bbebf42ef6cf",
       "value": 1
      }
     },
     "d210687a0be6485394f685acab3c07cd": {
      "model_module": "@jupyter-widgets/controls",
      "model_module_version": "1.5.0",
      "model_name": "FloatSliderModel",
      "state": {
       "description": "µ :",
       "layout": "IPY_MODEL_1904a39453ec40089ee8a8bad890c174",
       "max": 5,
       "min": -5,
       "step": 0.1,
       "style": "IPY_MODEL_327a4d3417a34b708f3130cde726c9e5",
       "value": 4.6
      }
     },
     "f4c01f9e2e8c47659299adbd29353e04": {
      "model_module": "@jupyter-widgets/output",
      "model_module_version": "1.0.0",
      "model_name": "OutputModel",
      "state": {
       "layout": "IPY_MODEL_537d2ed36bf84ab9ab3d05ef969e95ab"
      }
     },
     "fc0d08432f6946998ed58b1bea811138": {
      "model_module": "@jupyter-widgets/controls",
      "model_module_version": "1.5.0",
      "model_name": "FloatSliderModel",
      "state": {
       "description": "µ :",
       "layout": "IPY_MODEL_383027aa1c5f4203807f9ac26489f441",
       "max": 5,
       "min": -5,
       "step": 0.1,
       "style": "IPY_MODEL_289e36630ec14cf89972a4b86c77a4e3",
       "value": 1
      }
     }
    },
    "version_major": 2,
    "version_minor": 0
   }
  }
 },
 "nbformat": 4,
 "nbformat_minor": 2
}
